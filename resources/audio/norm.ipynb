{
 "cells": [
  {
   "cell_type": "code",
   "execution_count": 4,
   "metadata": {},
   "outputs": [],
   "source": [
    "import os\n",
    "def search_wavs(rootdir):\n",
    "    paths=[]\n",
    "    for root, dirs, files in os.walk(rootdir):\n",
    "        for file in files:\n",
    "            if file.endswith(\".wav\"):\n",
    "                paths.append(os.path.join(root,file))               \n",
    "    \n",
    "    return paths"
   ]
  },
  {
   "cell_type": "code",
   "execution_count": 5,
   "metadata": {},
   "outputs": [],
   "source": [
    "import librosa\n",
    "from scipy.io import wavfile\n",
    "def normalize_wav(wav_path):\n",
    "    audio, sr=librosa.load(wav_path)\n",
    "    audio = librosa.util.normalize(audio) * 0.95\n",
    "    wavfile.write(wav_path, sr, (audio * 32767).astype(\"int16\"))"
   ]
  },
  {
   "cell_type": "code",
   "execution_count": 3,
   "metadata": {},
   "outputs": [],
   "source": [
    "for wav in search_wavs('./diffvc'):\n",
    "    normalize_wav(wav)"
   ]
  },
  {
   "cell_type": "code",
   "execution_count": 4,
   "metadata": {},
   "outputs": [],
   "source": [
    "for rootdir in ['./diffvcp','./diffvcpl','./diffvcpl_stream','./diffvcpd','./notgt']:\n",
    "    for wav in search_wavs(rootdir):\n",
    "        normalize_wav(wav)"
   ]
  },
  {
   "cell_type": "code",
   "execution_count": 6,
   "metadata": {},
   "outputs": [
    {
     "data": {
      "text/plain": [
       "'./diffvc\\\\p238\\\\p238_p241_001.wav'"
      ]
     },
     "execution_count": 6,
     "metadata": {},
     "output_type": "execute_result"
    }
   ],
   "source": [
    "a=search_wavs('./diffvc')[0]\n",
    "a"
   ]
  },
  {
   "cell_type": "code",
   "execution_count": 7,
   "metadata": {},
   "outputs": [
    {
     "data": {
      "text/plain": [
       "'p241'"
      ]
     },
     "execution_count": 7,
     "metadata": {},
     "output_type": "execute_result"
    }
   ],
   "source": [
    "a.split('_')[1]"
   ]
  },
  {
   "cell_type": "code",
   "execution_count": 12,
   "metadata": {},
   "outputs": [],
   "source": [
    "def get_tgt(path):\n",
    "    return path.split('\\\\')[-1].split('_')[1]"
   ]
  },
  {
   "cell_type": "code",
   "execution_count": 18,
   "metadata": {},
   "outputs": [
    {
     "data": {
      "text/plain": [
       "'./diffvcp\\\\p238\\\\p238_p241_001.wav'"
      ]
     },
     "execution_count": 18,
     "metadata": {},
     "output_type": "execute_result"
    }
   ],
   "source": [
    "search_wavs('./diffvcp')[0]"
   ]
  },
  {
   "cell_type": "code",
   "execution_count": 15,
   "metadata": {},
   "outputs": [
    {
     "data": {
      "text/plain": [
       "('./diffvcpl_stream\\\\p238\\\\p238_p241_001.wav', 'p241')"
      ]
     },
     "execution_count": 15,
     "metadata": {},
     "output_type": "execute_result"
    }
   ],
   "source": [
    "search_wavs('./diffvcpl_stream')[0],get_tgt(search_wavs('./diffvcpl_stream')[0])"
   ]
  },
  {
   "cell_type": "code",
   "execution_count": 10,
   "metadata": {},
   "outputs": [],
   "source": [
    "spks=['p238','p241','p243','p294']\n",
    "for rootdir in ['./diffvc','./diffvcp','./diffvcpl','./diffvcpl_stream','./diffvcpd']:\n",
    "    for wav in search_wavs(rootdir):\n",
    "        if get_tgt(wav) not in spks:\n",
    "            os.remove(wav)"
   ]
  },
  {
   "cell_type": "code",
   "execution_count": 14,
   "metadata": {},
   "outputs": [],
   "source": [
    "spks=['p238','p241','p243','p294']\n",
    "for rootdir in ['./diffvcpl_stream']:\n",
    "    for wav in search_wavs(rootdir):\n",
    "        if get_tgt(wav) not in spks:\n",
    "            os.remove(wav)"
   ]
  },
  {
   "cell_type": "code",
   "execution_count": 16,
   "metadata": {},
   "outputs": [],
   "source": [
    "for wav in search_wavs(r'.\\diffvcpl_stream'):\n",
    "    normalize_wav(wav)"
   ]
  },
  {
   "cell_type": "code",
   "execution_count": 17,
   "metadata": {},
   "outputs": [],
   "source": [
    "for wav in search_wavs(r'.\\original'):\n",
    "    normalize_wav(wav)"
   ]
  }
 ],
 "metadata": {
  "kernelspec": {
   "display_name": "base",
   "language": "python",
   "name": "python3"
  },
  "language_info": {
   "codemirror_mode": {
    "name": "ipython",
    "version": 3
   },
   "file_extension": ".py",
   "mimetype": "text/x-python",
   "name": "python",
   "nbconvert_exporter": "python",
   "pygments_lexer": "ipython3",
   "version": "3.7.0"
  }
 },
 "nbformat": 4,
 "nbformat_minor": 2
}
